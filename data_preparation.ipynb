{
 "cells": [
  {
   "cell_type": "code",
   "execution_count": 48,
   "metadata": {},
   "outputs": [],
   "source": [
    "##############################################################################\n",
    "# MakeDatasets.py - script to create datasets in a format conducive to \n",
    "# multi-multi classification and submission generation.\n",
    "#\n",
    "# For: DrivenData.org/ERS's BoxPlots for Education Competition\n",
    "# By: Quoc Nam Le (quocnle at gmail.com or quoc.le at u.northwestern.edu)\n",
    "# License: MIT (http://machinelearner.net/boxplots-for-education-1st-place/LICENSE.txt)\n",
    "# \n",
    "# Files produced:\n",
    "# (A) TrainLabels.csv - extracts training labels from TrainingData.csv \n",
    "# (B) TrainPredictors.csv - same was TrainingData.csv but just predictor columns (no labels)\n",
    "# (C) TestData2.csv - reorders columns in TestData.csv to match order in TrainPredictors.csv\n",
    "##############################################################################"
   ]
  },
  {
   "cell_type": "code",
   "execution_count": 49,
   "metadata": {},
   "outputs": [],
   "source": [
    "import pandas as pd\n",
    "import numpy as np"
   ]
  },
  {
   "cell_type": "code",
   "execution_count": 50,
   "metadata": {},
   "outputs": [
    {
     "data": {
      "text/plain": [
       "'0.24.2'"
      ]
     },
     "execution_count": 50,
     "metadata": {},
     "output_type": "execute_result"
    }
   ],
   "source": [
    "pd.__version__\n"
   ]
  },
  {
   "cell_type": "code",
   "execution_count": 51,
   "metadata": {},
   "outputs": [
    {
     "name": "stderr",
     "output_type": "stream",
     "text": [
      "/Users/kyu.kim@ibm.com/anaconda3/lib/python3.7/site-packages/IPython/core/interactiveshell.py:3057: DtypeWarning: Columns (5,11) have mixed types. Specify dtype option on import or set low_memory=False.\n",
      "  interactivity=interactivity, compiler=compiler, result=result)\n"
     ]
    }
   ],
   "source": [
    "# get the original datasets\n",
    "train = pd.read_csv('origdata/Trainingdata.csv')\n",
    "test = pd.read_csv('origdata/Testdata.csv')\n",
    "sample = pd.read_csv('origdata/SubmissionFormat.csv')"
   ]
  },
  {
   "cell_type": "code",
   "execution_count": 52,
   "metadata": {},
   "outputs": [
    {
     "data": {
      "text/plain": [
       "(50064, 105)"
      ]
     },
     "execution_count": 52,
     "metadata": {},
     "output_type": "execute_result"
    }
   ],
   "source": [
    "train.head()\n",
    "test.head() #include only independent variables\n",
    "train.shape #(400277, 26)\n",
    "test.shape #(50064, 17)\n",
    "sample.shape #(50064, 105)"
   ]
  },
  {
   "cell_type": "code",
   "execution_count": 53,
   "metadata": {},
   "outputs": [],
   "source": [
    "# Create TrainLabels.csv\n",
    "# Use column names from SubmissionFormat files.  We will add these columns to TrainLabels.csv\n",
    "cols = sample.columns.tolist()"
   ]
  },
  {
   "cell_type": "code",
   "execution_count": 54,
   "metadata": {},
   "outputs": [],
   "source": [
    "# Start the new data frame.  Note Unnamed: 0 is just the name pandas gives to no-name id column\n",
    "trainLabels = pd.DataFrame(train['Unnamed: 0'])"
   ]
  },
  {
   "cell_type": "code",
   "execution_count": 55,
   "metadata": {},
   "outputs": [],
   "source": [
    "#add each column to TrainLabels.csv\n",
    "for column in cols:\n",
    "    if column == 'Unnamed: 0': continue\n",
    "    parts = column.split('__')\n",
    "    trainLabels[column] = np.where(train[parts[0]]== parts[1],1,0)"
   ]
  },
  {
   "cell_type": "code",
   "execution_count": 56,
   "metadata": {},
   "outputs": [],
   "source": [
    "#write the TrainLabels.csv to disk\n",
    "trainLabels.to_csv('trainLabels.csv', index=False)"
   ]
  },
  {
   "cell_type": "code",
   "execution_count": 60,
   "metadata": {},
   "outputs": [],
   "source": [
    "#########################\n",
    "# Create TrainPredictors.csv\n",
    "#########################\n",
    "# Remove the label fields so we are just left with predictors\n",
    "del train['Function']\n",
    "del train['Use']\n",
    "del train['Sharing']\n",
    "del train['Reporting']\n",
    "del train['Student_Type']\n",
    "del train['Position_Type']\n",
    "del train['Object_Type']\n",
    "del train['Pre_K']\n",
    "del train['Operating_Status']"
   ]
  },
  {
   "cell_type": "code",
   "execution_count": 61,
   "metadata": {},
   "outputs": [],
   "source": [
    "# Avoid commas quotes as they complicate parsing later.\n",
    "# Commas and escaping quotes would be ok if we use pandas or csv package to \n",
    "# load training data, but for performnce we use pypy and manually parse the \n",
    "# training file using split(), and it was too much work to deal with the \n",
    "# quotes and commas at the time.\n",
    "for column in train.columns.tolist():\n",
    "\tif train[column].dtype == 'object':\n",
    "\t\ttrain[column] = train[column].str.replace(',',' ')\n",
    "\t\ttrain[column] = train[column].str.replace('\"','')\n",
    "train.to_csv('trainPredictors.csv',index=False)\n"
   ]
  },
  {
   "cell_type": "code",
   "execution_count": 63,
   "metadata": {},
   "outputs": [],
   "source": [
    "#########################\n",
    "# Create TestData2.csv\n",
    "#########################\n",
    "train_col_order = ['Unnamed: 0','Object_Description',\n",
    " 'Text_2',\n",
    " 'SubFund_Description',\n",
    " 'Job_Title_Description',\n",
    " 'Text_3',\n",
    " 'Text_4',\n",
    " 'Sub_Object_Description',\n",
    " 'Location_Description',\n",
    " 'FTE',\n",
    " 'Function_Description',\n",
    " 'Facility_or_Department',\n",
    " 'Position_Extra',\n",
    " 'Total',\n",
    " 'Program_Description',\n",
    " 'Fund_Description',\n",
    " 'Text_1']\n",
    "\n",
    "for column in test.columns.tolist():\n",
    "\tif test[column].dtype == 'object':\n",
    "\t\ttest[column] = test[column].str.replace(',',' ')\n",
    "\t\ttest[column] = test[column].str.replace('\"','')\n",
    "\n",
    "test[train_col_order].to_csv('TestData2.csv', index=False)"
   ]
  },
  {
   "cell_type": "code",
   "execution_count": null,
   "metadata": {},
   "outputs": [],
   "source": []
  }
 ],
 "metadata": {
  "kernelspec": {
   "display_name": "Python 3",
   "language": "python",
   "name": "python3"
  },
  "language_info": {
   "codemirror_mode": {
    "name": "ipython",
    "version": 3
   },
   "file_extension": ".py",
   "mimetype": "text/x-python",
   "name": "python",
   "nbconvert_exporter": "python",
   "pygments_lexer": "ipython3",
   "version": "3.7.3"
  }
 },
 "nbformat": 4,
 "nbformat_minor": 2
}
